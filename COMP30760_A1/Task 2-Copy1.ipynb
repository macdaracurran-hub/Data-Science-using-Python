{
 "cells": [
  {
   "cell_type": "markdown",
   "metadata": {},
   "source": [
    "## 2. Data Preparation and Analysis "
   ]
  },
  {
   "cell_type": "code",
   "execution_count": 3,
   "metadata": {},
   "outputs": [],
   "source": [
    "import pandas as pd\n",
    "import seaborn as sns\n",
    "from pandas.plotting import scatter_matrix\n",
    "import matplotlib.pyplot as plt\n",
    "%matplotlib inline"
   ]
  },
  {
   "cell_type": "markdown",
   "metadata": {},
   "source": [
    "Key settings and apperances used for plotting throughout the project"
   ]
  },
  {
   "cell_type": "markdown",
   "metadata": {},
   "source": [
    "## Loading Dataset "
   ]
  },
  {
   "cell_type": "markdown",
   "metadata": {},
   "source": [
    "Loading the CSV file and looking at its headers."
   ]
  },
  {
   "cell_type": "code",
   "execution_count": 4,
   "metadata": {},
   "outputs": [
    {
     "data": {
      "text/html": [
       "<div>\n",
       "<style scoped>\n",
       "    .dataframe tbody tr th:only-of-type {\n",
       "        vertical-align: middle;\n",
       "    }\n",
       "\n",
       "    .dataframe tbody tr th {\n",
       "        vertical-align: top;\n",
       "    }\n",
       "\n",
       "    .dataframe thead th {\n",
       "        text-align: right;\n",
       "    }\n",
       "</style>\n",
       "<table border=\"1\" class=\"dataframe\">\n",
       "  <thead>\n",
       "    <tr style=\"text-align: right;\">\n",
       "      <th></th>\n",
       "      <th>id</th>\n",
       "      <th>title</th>\n",
       "      <th>adult</th>\n",
       "      <th>popularity</th>\n",
       "      <th>release_date</th>\n",
       "      <th>vote_average</th>\n",
       "      <th>vote_count</th>\n",
       "    </tr>\n",
       "  </thead>\n",
       "  <tbody>\n",
       "    <tr>\n",
       "      <th>0</th>\n",
       "      <td>663712</td>\n",
       "      <td>Terrifier 2</td>\n",
       "      <td>False</td>\n",
       "      <td>8396.618</td>\n",
       "      <td>2022-10-06</td>\n",
       "      <td>7.1</td>\n",
       "      <td>370</td>\n",
       "    </tr>\n",
       "    <tr>\n",
       "      <th>1</th>\n",
       "      <td>436270</td>\n",
       "      <td>Black Adam</td>\n",
       "      <td>False</td>\n",
       "      <td>3774.767</td>\n",
       "      <td>2022-10-19</td>\n",
       "      <td>6.9</td>\n",
       "      <td>819</td>\n",
       "    </tr>\n",
       "    <tr>\n",
       "      <th>2</th>\n",
       "      <td>717728</td>\n",
       "      <td>Jeepers Creepers: Reborn</td>\n",
       "      <td>False</td>\n",
       "      <td>1927.044</td>\n",
       "      <td>2022-09-15</td>\n",
       "      <td>5.7</td>\n",
       "      <td>413</td>\n",
       "    </tr>\n",
       "    <tr>\n",
       "      <th>3</th>\n",
       "      <td>985939</td>\n",
       "      <td>Fall</td>\n",
       "      <td>False</td>\n",
       "      <td>1807.787</td>\n",
       "      <td>2022-08-11</td>\n",
       "      <td>7.3</td>\n",
       "      <td>1626</td>\n",
       "    </tr>\n",
       "    <tr>\n",
       "      <th>4</th>\n",
       "      <td>760161</td>\n",
       "      <td>Orphan: First Kill</td>\n",
       "      <td>False</td>\n",
       "      <td>1649.832</td>\n",
       "      <td>2022-07-27</td>\n",
       "      <td>6.8</td>\n",
       "      <td>1216</td>\n",
       "    </tr>\n",
       "  </tbody>\n",
       "</table>\n",
       "</div>"
      ],
      "text/plain": [
       "       id                     title  adult  popularity release_date  \\\n",
       "0  663712               Terrifier 2  False    8396.618   2022-10-06   \n",
       "1  436270                Black Adam  False    3774.767   2022-10-19   \n",
       "2  717728  Jeepers Creepers: Reborn  False    1927.044   2022-09-15   \n",
       "3  985939                      Fall  False    1807.787   2022-08-11   \n",
       "4  760161        Orphan: First Kill  False    1649.832   2022-07-27   \n",
       "\n",
       "   vote_average  vote_count  \n",
       "0           7.1         370  \n",
       "1           6.9         819  \n",
       "2           5.7         413  \n",
       "3           7.3        1626  \n",
       "4           6.8        1216  "
      ]
     },
     "execution_count": 4,
     "metadata": {},
     "output_type": "execute_result"
    }
   ],
   "source": [
    "df = pd.read_csv('tmdb.csv', index_col=[0])\n",
    "df.head()"
   ]
  },
  {
   "cell_type": "markdown",
   "metadata": {},
   "source": [
    "## Data Preprocessing "
   ]
  },
  {
   "cell_type": "markdown",
   "metadata": {},
   "source": [
    "Printing information about the DataFrame including the index dtype, columns and non-null values."
   ]
  },
  {
   "cell_type": "code",
   "execution_count": 5,
   "metadata": {},
   "outputs": [
    {
     "name": "stdout",
     "output_type": "stream",
     "text": [
      "<class 'pandas.core.frame.DataFrame'>\n",
      "Int64Index: 1952 entries, 0 to 1951\n",
      "Data columns (total 7 columns):\n",
      " #   Column        Non-Null Count  Dtype  \n",
      "---  ------        --------------  -----  \n",
      " 0   id            1952 non-null   int64  \n",
      " 1   title         1952 non-null   object \n",
      " 2   adult         1952 non-null   bool   \n",
      " 3   popularity    1952 non-null   float64\n",
      " 4   release_date  1952 non-null   object \n",
      " 5   vote_average  1952 non-null   float64\n",
      " 6   vote_count    1952 non-null   int64  \n",
      "dtypes: bool(1), float64(2), int64(2), object(2)\n",
      "memory usage: 108.7+ KB\n"
     ]
    }
   ],
   "source": [
    "df.info()"
   ]
  },
  {
   "cell_type": "markdown",
   "metadata": {},
   "source": [
    "The dtype of the release date column is incorrect and should be converted into the datetime dtype."
   ]
  },
  {
   "cell_type": "code",
   "execution_count": 6,
   "metadata": {},
   "outputs": [],
   "source": [
    "df['release_date'] = pd.to_datetime(df['release_date'])"
   ]
  },
  {
   "cell_type": "code",
   "execution_count": 7,
   "metadata": {},
   "outputs": [
    {
     "data": {
      "text/plain": [
       "dtype('<M8[ns]')"
      ]
     },
     "execution_count": 7,
     "metadata": {},
     "output_type": "execute_result"
    }
   ],
   "source": [
    "df['release_date'].dtypes"
   ]
  },
  {
   "cell_type": "markdown",
   "metadata": {},
   "source": [
    "Now checking for any dataframe entries that have null values"
   ]
  },
  {
   "cell_type": "code",
   "execution_count": 8,
   "metadata": {},
   "outputs": [
    {
     "data": {
      "text/plain": [
       "id              0\n",
       "title           0\n",
       "adult           0\n",
       "popularity      0\n",
       "release_date    0\n",
       "vote_average    0\n",
       "vote_count      0\n",
       "dtype: int64"
      ]
     },
     "execution_count": 8,
     "metadata": {},
     "output_type": "execute_result"
    }
   ],
   "source": [
    "df.isnull().sum()"
   ]
  },
  {
   "cell_type": "markdown",
   "metadata": {},
   "source": [
    "There are no null entries present within the dataframe, now I will check for any duplicate entries."
   ]
  },
  {
   "cell_type": "code",
   "execution_count": 9,
   "metadata": {},
   "outputs": [
    {
     "data": {
      "text/plain": [
       "20"
      ]
     },
     "execution_count": 9,
     "metadata": {},
     "output_type": "execute_result"
    }
   ],
   "source": [
    "df.duplicated().sum()"
   ]
  },
  {
   "cell_type": "markdown",
   "metadata": {},
   "source": [
    "There are duplicated entries within the dataframe,  I will now remove them from the dataframe"
   ]
  },
  {
   "cell_type": "code",
   "execution_count": 10,
   "metadata": {},
   "outputs": [
    {
     "data": {
      "text/plain": [
       "0"
      ]
     },
     "execution_count": 10,
     "metadata": {},
     "output_type": "execute_result"
    }
   ],
   "source": [
    "df.drop_duplicates(inplace = True)\n",
    "df.duplicated().sum()"
   ]
  },
  {
   "cell_type": "markdown",
   "metadata": {},
   "source": [
    "The duplicated entries have now been removed. I will now check the number of rows and columns that remain in the dataframe."
   ]
  },
  {
   "cell_type": "code",
   "execution_count": 11,
   "metadata": {},
   "outputs": [
    {
     "data": {
      "text/plain": [
       "(1932, 7)"
      ]
     },
     "execution_count": 11,
     "metadata": {},
     "output_type": "execute_result"
    }
   ],
   "source": [
    "df.shape"
   ]
  },
  {
   "cell_type": "markdown",
   "metadata": {},
   "source": [
    "Showing a statistical summary of the dataframe. "
   ]
  },
  {
   "cell_type": "code",
   "execution_count": 12,
   "metadata": {},
   "outputs": [
    {
     "data": {
      "text/html": [
       "<div>\n",
       "<style scoped>\n",
       "    .dataframe tbody tr th:only-of-type {\n",
       "        vertical-align: middle;\n",
       "    }\n",
       "\n",
       "    .dataframe tbody tr th {\n",
       "        vertical-align: top;\n",
       "    }\n",
       "\n",
       "    .dataframe thead th {\n",
       "        text-align: right;\n",
       "    }\n",
       "</style>\n",
       "<table border=\"1\" class=\"dataframe\">\n",
       "  <thead>\n",
       "    <tr style=\"text-align: right;\">\n",
       "      <th></th>\n",
       "      <th>id</th>\n",
       "      <th>popularity</th>\n",
       "      <th>vote_average</th>\n",
       "      <th>vote_count</th>\n",
       "    </tr>\n",
       "  </thead>\n",
       "  <tbody>\n",
       "    <tr>\n",
       "      <th>count</th>\n",
       "      <td>1.932000e+03</td>\n",
       "      <td>1932.000000</td>\n",
       "      <td>1932.000000</td>\n",
       "      <td>1932.000000</td>\n",
       "    </tr>\n",
       "    <tr>\n",
       "      <th>mean</th>\n",
       "      <td>9.228829e+05</td>\n",
       "      <td>30.997765</td>\n",
       "      <td>2.337060</td>\n",
       "      <td>69.295031</td>\n",
       "    </tr>\n",
       "    <tr>\n",
       "      <th>std</th>\n",
       "      <td>1.676227e+05</td>\n",
       "      <td>241.154165</td>\n",
       "      <td>3.278582</td>\n",
       "      <td>830.377249</td>\n",
       "    </tr>\n",
       "    <tr>\n",
       "      <th>min</th>\n",
       "      <td>5.780000e+02</td>\n",
       "      <td>0.000000</td>\n",
       "      <td>0.000000</td>\n",
       "      <td>0.000000</td>\n",
       "    </tr>\n",
       "    <tr>\n",
       "      <th>25%</th>\n",
       "      <td>8.641508e+05</td>\n",
       "      <td>1.529000</td>\n",
       "      <td>0.000000</td>\n",
       "      <td>0.000000</td>\n",
       "    </tr>\n",
       "    <tr>\n",
       "      <th>50%</th>\n",
       "      <td>1.005338e+06</td>\n",
       "      <td>2.668500</td>\n",
       "      <td>0.000000</td>\n",
       "      <td>0.000000</td>\n",
       "    </tr>\n",
       "    <tr>\n",
       "      <th>75%</th>\n",
       "      <td>1.031174e+06</td>\n",
       "      <td>6.707500</td>\n",
       "      <td>6.000000</td>\n",
       "      <td>1.000000</td>\n",
       "    </tr>\n",
       "    <tr>\n",
       "      <th>max</th>\n",
       "      <td>1.044385e+06</td>\n",
       "      <td>8396.618000</td>\n",
       "      <td>10.000000</td>\n",
       "      <td>26443.000000</td>\n",
       "    </tr>\n",
       "  </tbody>\n",
       "</table>\n",
       "</div>"
      ],
      "text/plain": [
       "                 id   popularity  vote_average    vote_count\n",
       "count  1.932000e+03  1932.000000   1932.000000   1932.000000\n",
       "mean   9.228829e+05    30.997765      2.337060     69.295031\n",
       "std    1.676227e+05   241.154165      3.278582    830.377249\n",
       "min    5.780000e+02     0.000000      0.000000      0.000000\n",
       "25%    8.641508e+05     1.529000      0.000000      0.000000\n",
       "50%    1.005338e+06     2.668500      0.000000      0.000000\n",
       "75%    1.031174e+06     6.707500      6.000000      1.000000\n",
       "max    1.044385e+06  8396.618000     10.000000  26443.000000"
      ]
     },
     "execution_count": 12,
     "metadata": {},
     "output_type": "execute_result"
    }
   ],
   "source": [
    "df.describe()"
   ]
  },
  {
   "cell_type": "markdown",
   "metadata": {},
   "source": [
    "There are many values within the columns vote_count and vote_average that equate to 0. This means that this data was entered incorrectly and should be counted and removed from the dataframe.\n"
   ]
  },
  {
   "cell_type": "code",
   "execution_count": 13,
   "metadata": {},
   "outputs": [
    {
     "name": "stdout",
     "output_type": "stream",
     "text": [
      "Count of zeros in column  vote_average  is :  1233\n",
      "Count of zeros in column  vote_count  is :  1232\n"
     ]
    }
   ],
   "source": [
    "column = ['vote_average','vote_count']\n",
    "for column_name in column:\n",
    "    column = df[column_name]\n",
    "    # Get the count of Zeros in column \n",
    "    count = (column == 0).sum()\n",
    "    print('Count of zeros in column ', column_name, ' is : ', count)"
   ]
  },
  {
   "cell_type": "markdown",
   "metadata": {},
   "source": [
    "Now that the rows that equate to zero have been counted, they will be removed from the dataframe."
   ]
  },
  {
   "cell_type": "code",
   "execution_count": 14,
   "metadata": {},
   "outputs": [],
   "source": [
    "df =df.query(\"vote_average   != 0 \")"
   ]
  },
  {
   "cell_type": "code",
   "execution_count": 15,
   "metadata": {},
   "outputs": [
    {
     "data": {
      "text/html": [
       "<div>\n",
       "<style scoped>\n",
       "    .dataframe tbody tr th:only-of-type {\n",
       "        vertical-align: middle;\n",
       "    }\n",
       "\n",
       "    .dataframe tbody tr th {\n",
       "        vertical-align: top;\n",
       "    }\n",
       "\n",
       "    .dataframe thead th {\n",
       "        text-align: right;\n",
       "    }\n",
       "</style>\n",
       "<table border=\"1\" class=\"dataframe\">\n",
       "  <thead>\n",
       "    <tr style=\"text-align: right;\">\n",
       "      <th></th>\n",
       "      <th>id</th>\n",
       "      <th>popularity</th>\n",
       "      <th>vote_average</th>\n",
       "      <th>vote_count</th>\n",
       "    </tr>\n",
       "  </thead>\n",
       "  <tbody>\n",
       "    <tr>\n",
       "      <th>count</th>\n",
       "      <td>6.990000e+02</td>\n",
       "      <td>699.000000</td>\n",
       "      <td>699.000000</td>\n",
       "      <td>699.000000</td>\n",
       "    </tr>\n",
       "    <tr>\n",
       "      <th>mean</th>\n",
       "      <td>8.221520e+05</td>\n",
       "      <td>77.268638</td>\n",
       "      <td>6.459514</td>\n",
       "      <td>191.525036</td>\n",
       "    </tr>\n",
       "    <tr>\n",
       "      <th>std</th>\n",
       "      <td>2.105507e+05</td>\n",
       "      <td>396.730880</td>\n",
       "      <td>1.752119</td>\n",
       "      <td>1372.630495</td>\n",
       "    </tr>\n",
       "    <tr>\n",
       "      <th>min</th>\n",
       "      <td>5.780000e+02</td>\n",
       "      <td>0.600000</td>\n",
       "      <td>1.000000</td>\n",
       "      <td>0.000000</td>\n",
       "    </tr>\n",
       "    <tr>\n",
       "      <th>25%</th>\n",
       "      <td>7.449420e+05</td>\n",
       "      <td>2.643000</td>\n",
       "      <td>5.900000</td>\n",
       "      <td>1.000000</td>\n",
       "    </tr>\n",
       "    <tr>\n",
       "      <th>50%</th>\n",
       "      <td>8.606230e+05</td>\n",
       "      <td>5.739000</td>\n",
       "      <td>6.600000</td>\n",
       "      <td>4.000000</td>\n",
       "    </tr>\n",
       "    <tr>\n",
       "      <th>75%</th>\n",
       "      <td>9.749355e+05</td>\n",
       "      <td>17.580000</td>\n",
       "      <td>7.400000</td>\n",
       "      <td>33.000000</td>\n",
       "    </tr>\n",
       "    <tr>\n",
       "      <th>max</th>\n",
       "      <td>1.043982e+06</td>\n",
       "      <td>8396.618000</td>\n",
       "      <td>10.000000</td>\n",
       "      <td>26443.000000</td>\n",
       "    </tr>\n",
       "  </tbody>\n",
       "</table>\n",
       "</div>"
      ],
      "text/plain": [
       "                 id   popularity  vote_average    vote_count\n",
       "count  6.990000e+02   699.000000    699.000000    699.000000\n",
       "mean   8.221520e+05    77.268638      6.459514    191.525036\n",
       "std    2.105507e+05   396.730880      1.752119   1372.630495\n",
       "min    5.780000e+02     0.600000      1.000000      0.000000\n",
       "25%    7.449420e+05     2.643000      5.900000      1.000000\n",
       "50%    8.606230e+05     5.739000      6.600000      4.000000\n",
       "75%    9.749355e+05    17.580000      7.400000     33.000000\n",
       "max    1.043982e+06  8396.618000     10.000000  26443.000000"
      ]
     },
     "execution_count": 15,
     "metadata": {},
     "output_type": "execute_result"
    }
   ],
   "source": [
    "df.describe()"
   ]
  },
  {
   "cell_type": "markdown",
   "metadata": {},
   "source": [
    "There are still entries that equal zero in the vote_count column, they should be removed aswell."
   ]
  },
  {
   "cell_type": "code",
   "execution_count": 16,
   "metadata": {},
   "outputs": [
    {
     "data": {
      "text/html": [
       "<div>\n",
       "<style scoped>\n",
       "    .dataframe tbody tr th:only-of-type {\n",
       "        vertical-align: middle;\n",
       "    }\n",
       "\n",
       "    .dataframe tbody tr th {\n",
       "        vertical-align: top;\n",
       "    }\n",
       "\n",
       "    .dataframe thead th {\n",
       "        text-align: right;\n",
       "    }\n",
       "</style>\n",
       "<table border=\"1\" class=\"dataframe\">\n",
       "  <thead>\n",
       "    <tr style=\"text-align: right;\">\n",
       "      <th></th>\n",
       "      <th>id</th>\n",
       "      <th>title</th>\n",
       "      <th>adult</th>\n",
       "      <th>popularity</th>\n",
       "      <th>release_date</th>\n",
       "      <th>vote_average</th>\n",
       "      <th>vote_count</th>\n",
       "    </tr>\n",
       "  </thead>\n",
       "  <tbody>\n",
       "    <tr>\n",
       "      <th>818</th>\n",
       "      <td>826448</td>\n",
       "      <td>Buffoon</td>\n",
       "      <td>False</td>\n",
       "      <td>3.389</td>\n",
       "      <td>2022-09-23</td>\n",
       "      <td>7.0</td>\n",
       "      <td>0</td>\n",
       "    </tr>\n",
       "  </tbody>\n",
       "</table>\n",
       "</div>"
      ],
      "text/plain": [
       "         id    title  adult  popularity release_date  vote_average  vote_count\n",
       "818  826448  Buffoon  False       3.389   2022-09-23           7.0           0"
      ]
     },
     "execution_count": 16,
     "metadata": {},
     "output_type": "execute_result"
    }
   ],
   "source": [
    "df.query(\"vote_count   == 0 \")"
   ]
  },
  {
   "cell_type": "markdown",
   "metadata": {},
   "source": [
    "There is a single remaining entry that is equal to zero in the vote_count column. It will now be removed. "
   ]
  },
  {
   "cell_type": "code",
   "execution_count": 17,
   "metadata": {},
   "outputs": [],
   "source": [
    "df =df.query(\"vote_count   != 0 \")"
   ]
  },
  {
   "cell_type": "code",
   "execution_count": 18,
   "metadata": {},
   "outputs": [
    {
     "data": {
      "text/html": [
       "<div>\n",
       "<style scoped>\n",
       "    .dataframe tbody tr th:only-of-type {\n",
       "        vertical-align: middle;\n",
       "    }\n",
       "\n",
       "    .dataframe tbody tr th {\n",
       "        vertical-align: top;\n",
       "    }\n",
       "\n",
       "    .dataframe thead th {\n",
       "        text-align: right;\n",
       "    }\n",
       "</style>\n",
       "<table border=\"1\" class=\"dataframe\">\n",
       "  <thead>\n",
       "    <tr style=\"text-align: right;\">\n",
       "      <th></th>\n",
       "      <th>id</th>\n",
       "      <th>popularity</th>\n",
       "      <th>vote_average</th>\n",
       "      <th>vote_count</th>\n",
       "    </tr>\n",
       "  </thead>\n",
       "  <tbody>\n",
       "    <tr>\n",
       "      <th>count</th>\n",
       "      <td>6.980000e+02</td>\n",
       "      <td>698.000000</td>\n",
       "      <td>698.000000</td>\n",
       "      <td>698.000000</td>\n",
       "    </tr>\n",
       "    <tr>\n",
       "      <th>mean</th>\n",
       "      <td>8.221458e+05</td>\n",
       "      <td>77.374483</td>\n",
       "      <td>6.458739</td>\n",
       "      <td>191.799427</td>\n",
       "    </tr>\n",
       "    <tr>\n",
       "      <th>std</th>\n",
       "      <td>2.107016e+05</td>\n",
       "      <td>397.005501</td>\n",
       "      <td>1.753256</td>\n",
       "      <td>1373.595628</td>\n",
       "    </tr>\n",
       "    <tr>\n",
       "      <th>min</th>\n",
       "      <td>5.780000e+02</td>\n",
       "      <td>0.600000</td>\n",
       "      <td>1.000000</td>\n",
       "      <td>1.000000</td>\n",
       "    </tr>\n",
       "    <tr>\n",
       "      <th>25%</th>\n",
       "      <td>7.446090e+05</td>\n",
       "      <td>2.642500</td>\n",
       "      <td>5.900000</td>\n",
       "      <td>1.000000</td>\n",
       "    </tr>\n",
       "    <tr>\n",
       "      <th>50%</th>\n",
       "      <td>8.607385e+05</td>\n",
       "      <td>5.740000</td>\n",
       "      <td>6.600000</td>\n",
       "      <td>4.000000</td>\n",
       "    </tr>\n",
       "    <tr>\n",
       "      <th>75%</th>\n",
       "      <td>9.749382e+05</td>\n",
       "      <td>17.725500</td>\n",
       "      <td>7.400000</td>\n",
       "      <td>33.000000</td>\n",
       "    </tr>\n",
       "    <tr>\n",
       "      <th>max</th>\n",
       "      <td>1.043982e+06</td>\n",
       "      <td>8396.618000</td>\n",
       "      <td>10.000000</td>\n",
       "      <td>26443.000000</td>\n",
       "    </tr>\n",
       "  </tbody>\n",
       "</table>\n",
       "</div>"
      ],
      "text/plain": [
       "                 id   popularity  vote_average    vote_count\n",
       "count  6.980000e+02   698.000000    698.000000    698.000000\n",
       "mean   8.221458e+05    77.374483      6.458739    191.799427\n",
       "std    2.107016e+05   397.005501      1.753256   1373.595628\n",
       "min    5.780000e+02     0.600000      1.000000      1.000000\n",
       "25%    7.446090e+05     2.642500      5.900000      1.000000\n",
       "50%    8.607385e+05     5.740000      6.600000      4.000000\n",
       "75%    9.749382e+05    17.725500      7.400000     33.000000\n",
       "max    1.043982e+06  8396.618000     10.000000  26443.000000"
      ]
     },
     "execution_count": 18,
     "metadata": {},
     "output_type": "execute_result"
    }
   ],
   "source": [
    "df.describe()"
   ]
  },
  {
   "cell_type": "markdown",
   "metadata": {},
   "source": [
    "There are now no entries that equal 0 in the dataframe."
   ]
  },
  {
   "cell_type": "code",
   "execution_count": 19,
   "metadata": {},
   "outputs": [
    {
     "data": {
      "text/plain": [
       "False    698\n",
       "Name: adult, dtype: int64"
      ]
     },
     "execution_count": 19,
     "metadata": {},
     "output_type": "execute_result"
    }
   ],
   "source": [
    "df.adult.value_counts()"
   ]
  },
  {
   "cell_type": "markdown",
   "metadata": {},
   "source": [
    "All the movies that were played, arn't in the adult category and this column is no longer needed. As all values within the category are identical so it will be removed. "
   ]
  },
  {
   "cell_type": "code",
   "execution_count": 20,
   "metadata": {},
   "outputs": [],
   "source": [
    "df.drop(['adult'], axis=1, inplace = True)"
   ]
  },
  {
   "cell_type": "code",
   "execution_count": 21,
   "metadata": {},
   "outputs": [
    {
     "data": {
      "text/plain": [
       "(698, 6)"
      ]
     },
     "execution_count": 21,
     "metadata": {},
     "output_type": "execute_result"
    }
   ],
   "source": [
    "df.shape"
   ]
  },
  {
   "cell_type": "markdown",
   "metadata": {},
   "source": [
    "There are now only 6 columns within the dataframe after the adult column has been removed. I will now procced \n",
    "to anylasis the dataset. \n"
   ]
  },
  {
   "cell_type": "markdown",
   "metadata": {},
   "source": [
    "# Data Analysis "
   ]
  },
  {
   "cell_type": "markdown",
   "metadata": {},
   "source": [
    "I will start by identifying the 10 most popular movies within the dataframe."
   ]
  },
  {
   "cell_type": "code",
   "execution_count": 22,
   "metadata": {},
   "outputs": [
    {
     "data": {
      "image/png": "[encoded data removed]",
      "text/plain": [
       "<Figure size 1440x720 with 1 Axes>"
      ]
     },
     "metadata": {
      "needs_background": "light"
     },
     "output_type": "display_data"
    }
   ],
   "source": [
    "top_popularity = df.sort_values(['popularity'], ascending = False)\n",
    "fig,axs=plt.subplots(figsize=(20,10))\n",
    "g=sns.barplot(x=top_popularity['title'][:10],y=top_popularity['popularity'][:10])\n",
    "g.set_title(\"The 10 Most Popular Movies \", weight = \"bold\")\n",
    "plt.show()"
   ]
  },
  {
   "cell_type": "markdown",
   "metadata": {},
   "source": [
    "As shown above the movies with the highest popularity are Terrifier 2, Black Adam, Jeeprs Creepers: Reborn, Fall, Orphan First Kill, Halloween Ends, The Stranger, Piggy, The infernal Machine and Smile.\n",
    "\n",
    "Theese movies are nearly all Horror movies, which makes sense given that this is Halloween. This demonstrates that a movies popularity may be influenced by external factors such as Holidays and Seasonal events. Many of the movies are also recent releases which is demonstrative of popularity's usage as a short term measurement of success. "
   ]
  },
  {
   "cell_type": "markdown",
   "metadata": {},
   "source": [
    "I will now look at the movies that recieved the most votes. "
   ]
  },
  {
   "cell_type": "code",
   "execution_count": 23,
   "metadata": {},
   "outputs": [
    {
     "data": {
      "image/png": "[encoded data removed]",
      "text/plain": [
       "<Figure size 1440x720 with 1 Axes>"
      ]
     },
     "metadata": {
      "needs_background": "light"
     },
     "output_type": "display_data"
    }
   ],
   "source": [
    "vote_counts = df.sort_values(['vote_count'], ascending = False)\n",
    "fig,axs=plt.subplots(figsize=(20,10))\n",
    "g=sns.barplot(x=vote_counts['title'][:10],y=vote_counts['vote_count'][:10])\n",
    "g.set_title(\"Top 10 Most Voted Movies \", weight = \"bold\")\n",
    "plt.show()"
   ]
  },
  {
   "cell_type": "markdown",
   "metadata": {},
   "source": [
    "Avatar, Spider-Man: No Way Home, V for Vandetta, Jaws, Top Gun, The Others, Top Gun Maverick, Scream 2, Morbius and Battle Royale are the 10 Movies with the most votes in the dataframe. There seems to be no immediate correlation visible between popularity and recieving votes as none of top ten in either Barchart match each other. \n",
    "\n",
    "This isn't suprising as a movies popularity can be effected by external factors, such as Halloween which has resulted in the nearly all the ten most popular movies sharing the same genre, horror. The movies with the highest vote_counts are less effected by external factors and are better examples of a movies lasting popularity and enduring values. Vote_count is a better stat to track the long term success of a move while popularity only shows it's immediate success. \n",
    "\n"
   ]
  },
  {
   "cell_type": "code",
   "execution_count": 24,
   "metadata": {},
   "outputs": [],
   "source": [
    "# creating a new column to only store the year.\n",
    "top_popularity['year'] = top_popularity['release_date'].dt.year"
   ]
  },
  {
   "cell_type": "markdown",
   "metadata": {},
   "source": [
    "Displaying the distribution of Popularity with histogram"
   ]
  },
  {
   "cell_type": "code",
   "execution_count": 25,
   "metadata": {},
   "outputs": [
    {
     "data": {
      "image/png": "[encoded data removed]",
      "text/plain": [
       "<Figure size 432x288 with 1 Axes>"
      ]
     },
     "metadata": {
      "needs_background": "light"
     },
     "output_type": "display_data"
    }
   ],
   "source": [
    "plt.hist(top_popularity.popularity,edgecolor = 'black')\n",
    "plt.xlabel('Popularity')\n",
    "plt.ylabel('Frequency')\n",
    "plt.title('Popularity Distribution')\n",
    "plt.show() "
   ]
  },
  {
   "cell_type": "markdown",
   "metadata": {},
   "source": [
    "The majority of popularity values fall between 0 and 1000. "
   ]
  },
  {
   "cell_type": "code",
   "execution_count": 26,
   "metadata": {},
   "outputs": [
    {
     "data": {
      "image/png": "[encoded data removed]",
      "text/plain": [
       "<Figure size 432x288 with 1 Axes>"
      ]
     },
     "metadata": {
      "needs_background": "light"
     },
     "output_type": "display_data"
    }
   ],
   "source": [
    "plt.hist(top_popularity.year,edgecolor = 'black')\n",
    "plt.xlabel('Popularity')\n",
    "plt.ylabel('Frequency')\n",
    "plt.title('Popularity Distribution')\n",
    "plt.show() "
   ]
  },
  {
   "cell_type": "code",
   "execution_count": 27,
   "metadata": {},
   "outputs": [
    {
     "data": {
      "text/plain": [
       "2022    570\n",
       "2021     71\n",
       "2020     19\n",
       "2019      9\n",
       "1982      2\n",
       "2009      2\n",
       "2018      2\n",
       "1936      1\n",
       "1939      1\n",
       "1991      1\n",
       "1955      1\n",
       "1964      1\n",
       "1975      1\n",
       "1976      1\n",
       "1978      1\n",
       "1923      1\n",
       "1986      1\n",
       "1997      1\n",
       "1992      1\n",
       "1994      1\n",
       "1998      1\n",
       "2000      1\n",
       "2001      1\n",
       "2006      1\n",
       "2007      1\n",
       "2008      1\n",
       "2011      1\n",
       "2013      1\n",
       "2017      1\n",
       "1922      1\n",
       "Name: year, dtype: int64"
      ]
     },
     "execution_count": 27,
     "metadata": {},
     "output_type": "execute_result"
    }
   ],
   "source": [
    "top_popularity.year.value_counts()\n"
   ]
  },
  {
   "cell_type": "markdown",
   "metadata": {},
   "source": [
    "There is a huge difference between the count of movies produced in 2022 and movies produced in any other year. The year with the second highest count of popular movies, 2021, has 70 which is an eight of total of popular movies produced in 2022. The third highest year 2020 has just over 3% of the amount of popular movies produced in 2022. \n",
    "\n",
    "\n",
    "\n"
   ]
  },
  {
   "cell_type": "code",
   "execution_count": 28,
   "metadata": {},
   "outputs": [
    {
     "data": {
      "image/png": "[encoded data removed]",
      "text/plain": [
       "<Figure size 432x288 with 1 Axes>"
      ]
     },
     "metadata": {
      "needs_background": "light"
     },
     "output_type": "display_data"
    },
    {
     "data": {
      "image/png": "[encoded data removed]",
      "text/plain": [
       "<Figure size 432x288 with 1 Axes>"
      ]
     },
     "metadata": {
      "needs_background": "light"
     },
     "output_type": "display_data"
    }
   ],
   "source": [
    "top_popularity.plot.scatter(x='year',y='popularity');\n",
    "top_popularity.plot.scatter(x='year',y='vote_count');"
   ]
  },
  {
   "cell_type": "markdown",
   "metadata": {},
   "source": [
    "There seems to be no immediate or visible correlation between the vote_count, vote_average and popularity of movie's. There are too many outliers present within the scatterplot diagram that indicate a lack of correlation. Though it is neccessary to conduct more analysis before making any definitive conclussions. "
   ]
  },
  {
   "cell_type": "code",
   "execution_count": 29,
   "metadata": {},
   "outputs": [
    {
     "data": {
      "image/png": "[encoded data removed]",
      "text/plain": [
       "<Figure size 864x720 with 25 Axes>"
      ]
     },
     "metadata": {
      "needs_background": "light"
     },
     "output_type": "display_data"
    }
   ],
   "source": [
    "scatter_matrix(top_popularity, figsize=(12,10), alpha=0.3);"
   ]
  },
  {
   "cell_type": "markdown",
   "metadata": {},
   "source": [
    "This scatter matrix also displays this but can be quite difficult to immediately interpret, so I will use a correlation heatmap \n",
    "to illustrate this. The correlation heatmap will be produced using the corr() function and heatmap."
   ]
  },
  {
   "cell_type": "code",
   "execution_count": 30,
   "metadata": {},
   "outputs": [
    {
     "data": {
      "text/html": [
       "<div>\n",
       "<style scoped>\n",
       "    .dataframe tbody tr th:only-of-type {\n",
       "        vertical-align: middle;\n",
       "    }\n",
       "\n",
       "    .dataframe tbody tr th {\n",
       "        vertical-align: top;\n",
       "    }\n",
       "\n",
       "    .dataframe thead th {\n",
       "        text-align: right;\n",
       "    }\n",
       "</style>\n",
       "<table border=\"1\" class=\"dataframe\">\n",
       "  <thead>\n",
       "    <tr style=\"text-align: right;\">\n",
       "      <th></th>\n",
       "      <th>id</th>\n",
       "      <th>popularity</th>\n",
       "      <th>vote_average</th>\n",
       "      <th>vote_count</th>\n",
       "      <th>year</th>\n",
       "    </tr>\n",
       "  </thead>\n",
       "  <tbody>\n",
       "    <tr>\n",
       "      <th>id</th>\n",
       "      <td>1.000000</td>\n",
       "      <td>-0.112205</td>\n",
       "      <td>-0.046873</td>\n",
       "      <td>-0.349001</td>\n",
       "      <td>0.525300</td>\n",
       "    </tr>\n",
       "    <tr>\n",
       "      <th>popularity</th>\n",
       "      <td>-0.112205</td>\n",
       "      <td>1.000000</td>\n",
       "      <td>0.050543</td>\n",
       "      <td>0.135285</td>\n",
       "      <td>0.024068</td>\n",
       "    </tr>\n",
       "    <tr>\n",
       "      <th>vote_average</th>\n",
       "      <td>-0.046873</td>\n",
       "      <td>0.050543</td>\n",
       "      <td>1.000000</td>\n",
       "      <td>0.074059</td>\n",
       "      <td>-0.024451</td>\n",
       "    </tr>\n",
       "    <tr>\n",
       "      <th>vote_count</th>\n",
       "      <td>-0.349001</td>\n",
       "      <td>0.135285</td>\n",
       "      <td>0.074059</td>\n",
       "      <td>1.000000</td>\n",
       "      <td>-0.174142</td>\n",
       "    </tr>\n",
       "    <tr>\n",
       "      <th>year</th>\n",
       "      <td>0.525300</td>\n",
       "      <td>0.024068</td>\n",
       "      <td>-0.024451</td>\n",
       "      <td>-0.174142</td>\n",
       "      <td>1.000000</td>\n",
       "    </tr>\n",
       "  </tbody>\n",
       "</table>\n",
       "</div>"
      ],
      "text/plain": [
       "                    id  popularity  vote_average  vote_count      year\n",
       "id            1.000000   -0.112205     -0.046873   -0.349001  0.525300\n",
       "popularity   -0.112205    1.000000      0.050543    0.135285  0.024068\n",
       "vote_average -0.046873    0.050543      1.000000    0.074059 -0.024451\n",
       "vote_count   -0.349001    0.135285      0.074059    1.000000 -0.174142\n",
       "year          0.525300    0.024068     -0.024451   -0.174142  1.000000"
      ]
     },
     "execution_count": 30,
     "metadata": {},
     "output_type": "execute_result"
    }
   ],
   "source": [
    "cormat = top_popularity.corr()\n",
    "round(cormat,10)"
   ]
  },
  {
   "cell_type": "code",
   "execution_count": 31,
   "metadata": {},
   "outputs": [
    {
     "data": {
      "image/png": "[encoded data removed]",
      "text/plain": [
       "<Figure size 432x288 with 2 Axes>"
      ]
     },
     "metadata": {
      "needs_background": "light"
     },
     "output_type": "display_data"
    }
   ],
   "source": [
    "sns.heatmap(cormat);"
   ]
  },
  {
   "cell_type": "markdown",
   "metadata": {},
   "source": [
    "The heatmap illustrates that there is very little correlation present within this database. Next in addition to examining the total number of vote_count per year I will also examine the average popularity of movies with respect to years. \n",
    "\n",
    "Though there is no correlation between a movies popularity and movies that have received the highest vote_count, but by examining a movies popularity with respect to the year of its release, I will show that a movies vote_count serves as a good indicator to a movies long term success. "
   ]
  },
  {
   "cell_type": "code",
   "execution_count": 32,
   "metadata": {},
   "outputs": [
    {
     "data": {
      "text/plain": [
       "<AxesSubplot:>"
      ]
     },
     "execution_count": 32,
     "metadata": {},
     "output_type": "execute_result"
    },
    {
     "data": {
      "image/png": "[encoded data removed]",
      "text/plain": [
       "<Figure size 432x288 with 1 Axes>"
      ]
     },
     "metadata": {
      "needs_background": "light"
     },
     "output_type": "display_data"
    }
   ],
   "source": [
    "top_popularity.year.value_counts().plot(kind=\"bar\")"
   ]
  },
  {
   "cell_type": "markdown",
   "metadata": {},
   "source": [
    "As I analysed earlier the year 2022 has the most movie counts in this dataset. I will now examine the mean popularity of movies with respect to years. If recency and popularity is a deciding or prevailing factor in a movies long term prospects and popularity 2022 should have on average the most popular movies in the dataframe followed by 2021, 2020 and 2019.\n",
    "\n",
    "Though it is still a possibility that other years will have a higher average score, judging from the Top ten most voted movies there are still a large number of highly regarded older films that should have a significant bearing on the results.\n"
   ]
  },
  {
   "cell_type": "code",
   "execution_count": 33,
   "metadata": {},
   "outputs": [
    {
     "data": {
      "image/png": "[encoded data removed]",
      "text/plain": [
       "<Figure size 432x288 with 1 Axes>"
      ]
     },
     "metadata": {
      "needs_background": "light"
     },
     "output_type": "display_data"
    }
   ],
   "source": [
    "top_popularity.groupby('year')[\"popularity\"].mean().plot(kind=\"bar\")\n",
    "#Wrt means with reference to \n",
    "plt.title('Mean Popularity of movies watched wrt Year')\n",
    "plt.ylabel(\"popularity\");"
   ]
  },
  {
   "cell_type": "code",
   "execution_count": 34,
   "metadata": {},
   "outputs": [
    {
     "data": {
      "image/png": "[encoded data removed]",
      "text/plain": [
       "<Figure size 432x288 with 1 Axes>"
      ]
     },
     "metadata": {
      "needs_background": "light"
     },
     "output_type": "display_data"
    }
   ],
   "source": [
    "top_popularity.plot.scatter(x='year',y='vote_count');"
   ]
  },
  {
   "cell_type": "markdown",
   "metadata": {},
   "source": [
    "The year 2009 has by far the highest amount of popular movies in this dataset, despite the fact that the year 2022 has the highest movie counts within popularity and all of the current Top Ten most popular movies were released that year.Though the four most recent years make up the majority of movies within the dataset, 2009 which only holds two entries, less then 0.4% of 2022's 560 entries, and 2007 which only holds a single entry, are on average years with more popular movies. \n",
    "\n",
    "This demonstrates the lack of correlation between a movies recenct/short term popularity and its long term success. This is also an illustration of how prevailing and enduring successful movies can be. Vote_count is indicative of the long and to some degree the short term engagement a movie has received. For example in 2009 the movie that received the most votes in this dataframe, Avatar was released which raised 2009's mean popularity substantially. This indicates that the higher the vote_count of a movie the better it's long term popularity or relevancy. It would appear that the movies that receive higher vote_count, serve as a better long term indication of a movies overall relevancy and impact. \n",
    "\n",
    "Next I will examine the relationship between popularity, vote_count and the vote_average. "
   ]
  },
  {
   "cell_type": "code",
   "execution_count": 35,
   "metadata": {},
   "outputs": [
    {
     "data": {
      "image/png": "[encoded data removed]",
      "text/plain": [
       "<Figure size 432x288 with 1 Axes>"
      ]
     },
     "metadata": {
      "needs_background": "light"
     },
     "output_type": "display_data"
    },
    {
     "data": {
      "image/png": "[encoded data removed]",
      "text/plain": [
       "<Figure size 432x288 with 1 Axes>"
      ]
     },
     "metadata": {
      "needs_background": "light"
     },
     "output_type": "display_data"
    }
   ],
   "source": [
    "top_popularity.plot.scatter(x='release_date',y='popularity');\n",
    "top_popularity.plot.scatter(x='release_date',y='vote_average');"
   ]
  },
  {
   "cell_type": "markdown",
   "metadata": {},
   "source": [
    "As illustrated by the earlier heatmap and once again by the outliers in this diagram there is no correlation between the popularity of a movie and the ratings/vote_average it will receive. Through my analysis it is clear that a movies popularity has little effect on its rating, a movies short term exposure/immediate popularity doesn't necessarily indicate a high vote_average. \n"
   ]
  },
  {
   "cell_type": "code",
   "execution_count": 36,
   "metadata": {},
   "outputs": [
    {
     "data": {
      "text/html": [
       "<div>\n",
       "<style scoped>\n",
       "    .dataframe tbody tr th:only-of-type {\n",
       "        vertical-align: middle;\n",
       "    }\n",
       "\n",
       "    .dataframe tbody tr th {\n",
       "        vertical-align: top;\n",
       "    }\n",
       "\n",
       "    .dataframe thead th {\n",
       "        text-align: right;\n",
       "    }\n",
       "</style>\n",
       "<table border=\"1\" class=\"dataframe\">\n",
       "  <thead>\n",
       "    <tr style=\"text-align: right;\">\n",
       "      <th></th>\n",
       "      <th>id</th>\n",
       "      <th>title</th>\n",
       "      <th>popularity</th>\n",
       "      <th>release_date</th>\n",
       "      <th>vote_average</th>\n",
       "      <th>vote_count</th>\n",
       "    </tr>\n",
       "  </thead>\n",
       "  <tbody>\n",
       "    <tr>\n",
       "      <th>0</th>\n",
       "      <td>663712</td>\n",
       "      <td>Terrifier 2</td>\n",
       "      <td>8396.618</td>\n",
       "      <td>2022-10-06</td>\n",
       "      <td>7.1</td>\n",
       "      <td>370</td>\n",
       "    </tr>\n",
       "    <tr>\n",
       "      <th>1</th>\n",
       "      <td>436270</td>\n",
       "      <td>Black Adam</td>\n",
       "      <td>3774.767</td>\n",
       "      <td>2022-10-19</td>\n",
       "      <td>6.9</td>\n",
       "      <td>819</td>\n",
       "    </tr>\n",
       "    <tr>\n",
       "      <th>2</th>\n",
       "      <td>717728</td>\n",
       "      <td>Jeepers Creepers: Reborn</td>\n",
       "      <td>1927.044</td>\n",
       "      <td>2022-09-15</td>\n",
       "      <td>5.7</td>\n",
       "      <td>413</td>\n",
       "    </tr>\n",
       "    <tr>\n",
       "      <th>3</th>\n",
       "      <td>985939</td>\n",
       "      <td>Fall</td>\n",
       "      <td>1807.787</td>\n",
       "      <td>2022-08-11</td>\n",
       "      <td>7.3</td>\n",
       "      <td>1626</td>\n",
       "    </tr>\n",
       "    <tr>\n",
       "      <th>4</th>\n",
       "      <td>760161</td>\n",
       "      <td>Orphan: First Kill</td>\n",
       "      <td>1649.832</td>\n",
       "      <td>2022-07-27</td>\n",
       "      <td>6.8</td>\n",
       "      <td>1216</td>\n",
       "    </tr>\n",
       "  </tbody>\n",
       "</table>\n",
       "</div>"
      ],
      "text/plain": [
       "       id                     title  popularity release_date  vote_average  \\\n",
       "0  663712               Terrifier 2    8396.618   2022-10-06           7.1   \n",
       "1  436270                Black Adam    3774.767   2022-10-19           6.9   \n",
       "2  717728  Jeepers Creepers: Reborn    1927.044   2022-09-15           5.7   \n",
       "3  985939                      Fall    1807.787   2022-08-11           7.3   \n",
       "4  760161        Orphan: First Kill    1649.832   2022-07-27           6.8   \n",
       "\n",
       "   vote_count  \n",
       "0         370  \n",
       "1         819  \n",
       "2         413  \n",
       "3        1626  \n",
       "4        1216  "
      ]
     },
     "execution_count": 36,
     "metadata": {},
     "output_type": "execute_result"
    }
   ],
   "source": [
    "df.head()"
   ]
  },
  {
   "cell_type": "markdown",
   "metadata": {},
   "source": [
    "A brief examination of 5 of the 10 most popular movies shows that a movies popularity is not determined or affected by its vote_average. For example Fall has an average of 7.3 the highest of the 5 movies displayed, but it is still considerably less popular then Black Adam, Jeepers Creepers:Reborn and Terrifier 2. \n",
    " \n",
    "Terrifier 2 is almost four times more popular then Fall despite it's slightly lower rating. It also has a much lower vote count then Fall, this would suggest that though less people watched Fall more people engaged with it. This also illustrates the weight an individuals vote_average/rating holds is largely determined by the number of people who have already voted. The higher the vote_count the easier it is to raise or lower a movies score. "
   ]
  },
  {
   "cell_type": "code",
   "execution_count": 37,
   "metadata": {},
   "outputs": [
    {
     "data": {
      "image/png": "[encoded data removed]",
      "text/plain": [
       "<Figure size 432x288 with 1 Axes>"
      ]
     },
     "metadata": {
      "needs_background": "light"
     },
     "output_type": "display_data"
    },
    {
     "data": {
      "image/png": "[encoded data removed]",
      "text/plain": [
       "<Figure size 432x288 with 1 Axes>"
      ]
     },
     "metadata": {
      "needs_background": "light"
     },
     "output_type": "display_data"
    }
   ],
   "source": [
    "top_popularity.plot.scatter(x='release_date',y='vote_count');\n",
    "top_popularity.plot.scatter(x='release_date',y='vote_average');"
   ]
  },
  {
   "cell_type": "markdown",
   "metadata": {},
   "source": [
    "As shown in this diagram the amount of votes received by a movie will not have a signifigant impact on the movies overall rating. It is considerably easier to get a higher or lower vote_average if you recieve a small amount of vote_count. Vote_count is a way to determine a movies long term popularity and engagement with its audience, but this doesn't mean that movies with a high vote_count will receive high ratings/vote_average. As mentioned earlier the lower the vote_count the easier it is to get a higher or lower rating. "
   ]
  },
  {
   "cell_type": "markdown",
   "metadata": {},
   "source": [
    "# Conclussion "
   ]
  },
  {
   "cell_type": "markdown",
   "metadata": {},
   "source": [
    "This data was analysed by examining movies with respect to popularity, vote_average, realse_date and vote_count. An analysis of the data shows that there is a lack of correlation between the variables present within the data and they are all relatively independant of each other. \n",
    "\n",
    "Though there is no relationship between popularity, vote_count and vote_average, movies with higher vote counts are likely more enduringly popular and impactful then movies that are currently popular due to holidays, advertisements and there recent release. There is no correlation between the vote_average of a movie and its popularity or vote_count. Some unpopular movies can recieve high ratings due to their low amounts of vote_counts and movies which are currently popular appear unaffected by their ratings because they are effected by external factors. \n",
    "\n",
    "Some challenges I faced during this anylasis was the lack of correlation between headers, having to remove variables because they lacked a valid input and the need to consistently perform a check before scrapping data due to the constant change in the page numbers\n",
    "\n",
    "For future anylasis it would be benificial to integrate other data sources. Being able to extract and examine other variables that could influence a movies popularity, vote_average and vote_count such as the movies budget, revenue and gross profit would make my analysis more complete. I would expect to see much more correlation within the analysis if integrated with other data sets, for example I would expect to see correlation between a movies popularity and revenue.\n"
   ]
  },
  {
   "cell_type": "code",
   "execution_count": null,
   "metadata": {},
   "outputs": [],
   "source": []
  }
 ],
 "metadata": {
  "kernelspec": {
   "display_name": "Python 3",
   "language": "python",
   "name": "python3"
  },
  "language_info": {
   "codemirror_mode": {
    "name": "ipython",
    "version": 3
   },
   "file_extension": ".py",
   "mimetype": "text/x-python",
   "name": "python",
   "nbconvert_exporter": "python",
   "pygments_lexer": "ipython3",
   "version": "3.8.5"
  }
 },
 "nbformat": 4,
 "nbformat_minor": 4
}
